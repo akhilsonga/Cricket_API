{
 "cells": [
  {
   "cell_type": "code",
   "execution_count": 3,
   "id": "51c14e41",
   "metadata": {
    "scrolled": true
   },
   "outputs": [
    {
     "name": "stdout",
     "output_type": "stream",
     "text": [
      "['Sam Curran to Santner, 1 run', 'Sam Curran to Santner, no run', 'Sam Curran to Santner, no run', 'Sam Curran to Santner, 2 runs', 'Sam Curran to Santner, 1 wide', 'Sam Curran to Sodhi, 1 run', 'Sam Curran to Sodhi, no run', 'Woakes to Santner, SIX runs', 'Woakes to Santner, 1 wide', 'Woakes to Santner, 2 runs', 'Woakes to Santner, 2 runs', 'Woakes to Sodhi, 1 leg bye', 'Woakes to Santner, 1 run', 'Woakes to Sodhi, 1 run', 'Sam Curran to Sodhi, 1 run', 'Sam Curran to Santner, 1 run', 'Sam Curran to Sodhi, 3 runs', 'Sam Curran to Phillips, OUT', 'Sam Curran to Santner, 1 run', 'Sam Curran to Phillips, 3 runs']\n",
      "\n",
      "\n",
      "['right on the mark again from Curran, bending back in on a yorker length, clipped to long-on, and England win by 20 runs', 'bouncer, well directed, following the batter and rising sharply off the deck. More precious dots to improve the NRR for England', \"brilliant blockhole bowling from Curran, another inswinging yorker, curling into the left-hander's toes\", 'inswinger, into the legs, cuffed to long-on, and back for two more', \"fired in fuller, Santner walks across his stumps, and England review! Looked like the umpire was going to signal wide, but there might have been a tickle through to the keeper. Doesn't look like it... and no pad either. Wide it is!\", 'outside off, into the pitch, back of a length, clawed to midwicket', \"ghosts past the outside edge, curling away on the full length, can't connect on the slapped drive. A precious dot, given that NRR is as important as the win now\", \"sits back in the crease, and slams a six up and over long-on! A useful strike from Santner, just keeps New Zealand's faint hopes alive. Woakes is frustrated, but that's a mighty stint all the same\", \"too wide this time, outside the batter's arc\", 'back of a length, tight across the left-hander, another attempted pull but rolls out towards long-on.', 'crashed on the up, full length outside off, and picked up in the deep', 'good aggression from Woakes, pace on this time, into the pitch as the batter advances and wears his attempted pull in the ribs', 'pushed across the left-hander on the full length, hacked out to deep point and just the single, as the rate leaps towards four a ball', 'thumped through the line, but no timing, another single to mid-on', \"eased down the ground, another exceptional screw-turning over. It's 20 an over now, and New Zealand need snookers\", 'superb from Curran, sees the batter shaping to leg, follows him with the inswinger, and they can only pick off the cramped single to mid-on', 'stabbed off the ribs, up and over backward square, Rashid rushes back at the rope and drags it back well', 'Walloped high through the line, and Jordan pouches another! That, surely, is the game for England! Phillips had to put bat through ball, but the tricksy angle and pace off the pitch scuppers his timing. The super-sub is back on the edge of the rope and makes no mistake!', 'short from Curran, sticking in the pitch as Santner leans back on a pull to midwicket', \"outside off, slams the drive with excellent placement, but Brook tracks it from deep cover and flings out a hand to intercept! Brilliant commitment to save a single. Still, that's the three a ball needed...\"]\n"
     ]
    }
   ],
   "source": [
    "import re\n",
    "from bs4 import BeautifulSoup\n",
    "import urllib\n",
    "url=\"https://www.espncricinfo.com/series/icc-men-s-t20-world-cup-2022-23-1298134/england-vs-new-zealand-33rd-match-group-1-1298167/ball-by-ball-commentary\"\n",
    "webpage_content = urllib.request.urlopen(url).read()\n",
    "data = BeautifulSoup(webpage_content, 'html.parser')\n",
    "\n",
    "commentry = []\n",
    "runs = []\n",
    "temp = data.find_all(\"p\",{\"class\":\"ci-html-content\"})\n",
    "#print(temp)\n",
    "for i in temp:\n",
    "    if i.has_attr('class'):\n",
    "        if 'ci-html-content' in i['class'] and len(i['class']) == 1:\n",
    "            #print(i)\n",
    "            #print(type(i))\n",
    "            commentry.append(i.get_text())\n",
    "            j = i.parent\n",
    "            b = j.previous_sibling\n",
    "            #print(b)\n",
    "            sp1 = b.find_all(\"span\")\n",
    "            for a in sp1:\n",
    "                sp2 = a.find_all(\"span\")\n",
    "                for b in sp2:\n",
    "                    runs.append(a.get_text())\n",
    "                            \n",
    "print(runs) \n",
    "print(\"\\n\") \n",
    "print(commentry)   "
   ]
  },
  {
   "cell_type": "code",
   "execution_count": null,
   "id": "512f12e7",
   "metadata": {},
   "outputs": [],
   "source": []
  }
 ],
 "metadata": {
  "kernelspec": {
   "display_name": "Python 3 (ipykernel)",
   "language": "python",
   "name": "python3"
  },
  "language_info": {
   "codemirror_mode": {
    "name": "ipython",
    "version": 3
   },
   "file_extension": ".py",
   "mimetype": "text/x-python",
   "name": "python",
   "nbconvert_exporter": "python",
   "pygments_lexer": "ipython3",
   "version": "3.9.12"
  }
 },
 "nbformat": 4,
 "nbformat_minor": 5
}
