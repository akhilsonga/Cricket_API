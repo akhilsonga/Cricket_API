{
 "cells": [
  {
   "cell_type": "code",
   "execution_count": 3,
   "id": "26ce86e5",
   "metadata": {},
   "outputs": [
    {
     "name": "stdout",
     "output_type": "stream",
     "text": [
      "Enter refreshes 15\n"
     ]
    },
    {
     "name": "stderr",
     "output_type": "stream",
     "text": [
      "C:\\Users\\akhil\\AppData\\Local\\Temp\\ipykernel_18252\\3913953832.py:27: DeprecationWarning: executable_path has been deprecated, please pass in a Service object\n",
      "  driver =  Chrome(executable_path = './chromedriver.exe')\n"
     ]
    },
    {
     "name": "stdout",
     "output_type": "stream",
     "text": [
      "100% [..............................................................................] 49417 / 49417Images Downloaded\n"
     ]
    }
   ],
   "source": [
    "from selenium.webdriver import Chrome\n",
    "import time\n",
    "from bs4 import BeautifulSoup\n",
    "import wget\n",
    "import re\n",
    "\n",
    "\n",
    "def URLS(ImageLinks): #jpf, png images return\n",
    "    \n",
    "    pattern = '(?:([^:/?#]+):)?(?://([^/?#]*))?([^?#]*\\.(?:jpg|png))(?:\\?([^#]*))?(?:#(.*))?'\n",
    "    turl = ImageLinks\n",
    "    s_url = []\n",
    "    for i in turl:\n",
    "        result = re.match(pattern, i)\n",
    "        if result:\n",
    "        #print(i)\n",
    "            s_url.append(i)    \n",
    "    return s_url\n",
    "\n",
    "def Downl(a):\n",
    "    #myurl = a[0]\n",
    "    for myurl in a:\n",
    "        wget.download(myurl , r\"C:\\Users\\akhil\\OneDrive\\Desktop\\Temp\\Viraty\")\n",
    "    print(\"Images Downloaded\")\n",
    "    \n",
    "b = int(input(\"Enter refreshes \"))\n",
    "driver =  Chrome(executable_path = './chromedriver.exe')\n",
    "driver.get('https://www.espncricinfo.com/player/virat-kohli-253802/photos')\n",
    "\n",
    "for i in range(b):\n",
    "    driver.execute_script(\"window.scrollTo(0+document.body.scrollTop,document.body.scrollHeight);\")\n",
    "    time.sleep(5)\n",
    "\n",
    "web_page = driver.page_source\n",
    "virat_images=[]\n",
    "data = BeautifulSoup(web_page, 'html.parser')\n",
    "all_images = data.find_all('div',{'class':'ds-mb-4'},multi_valued_attributes=None)\n",
    "\n",
    "for i in all_images:\n",
    "    temp=i.find('img')\n",
    "    if temp:\n",
    "        virat_images.append(temp['src'])\n",
    "        \n",
    "a = URLS(virat_images)\n",
    "Downl(a)\n",
    "    \n"
   ]
  },
  {
   "cell_type": "code",
   "execution_count": 2,
   "id": "06574f37",
   "metadata": {},
   "outputs": [
    {
     "data": {
      "text/plain": [
       "75"
      ]
     },
     "execution_count": 2,
     "metadata": {},
     "output_type": "execute_result"
    }
   ],
   "source": [
    "len(a)"
   ]
  },
  {
   "cell_type": "code",
   "execution_count": null,
   "id": "0933dbba",
   "metadata": {},
   "outputs": [],
   "source": []
  }
 ],
 "metadata": {
  "kernelspec": {
   "display_name": "Python 3 (ipykernel)",
   "language": "python",
   "name": "python3"
  },
  "language_info": {
   "codemirror_mode": {
    "name": "ipython",
    "version": 3
   },
   "file_extension": ".py",
   "mimetype": "text/x-python",
   "name": "python",
   "nbconvert_exporter": "python",
   "pygments_lexer": "ipython3",
   "version": "3.9.12"
  }
 },
 "nbformat": 4,
 "nbformat_minor": 5
}
